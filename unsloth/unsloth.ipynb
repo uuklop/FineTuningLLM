{
 "cells": [
  {
   "cell_type": "code",
   "id": "initial_id",
   "metadata": {
    "collapsed": true
   },
   "source": [
    "from unsloth import FastLanguageModel\n",
    "import torch\n"
   ],
   "outputs": [],
   "execution_count": null
  },
  {
   "metadata": {},
   "cell_type": "code",
   "source": [
    "max_seq_length = 2048\n",
    "dtype = None\n",
    "load_in_4bit = True\n"
   ],
   "id": "67d5f414585507de",
   "outputs": [],
   "execution_count": null
  },
  {
   "metadata": {},
   "cell_type": "code",
   "source": [
    "model, tokenizer = FastLanguageModel.from_pretrained(\n",
    "    model_name = \"unsloth/Meta-Llama-3.1-8B\",\n",
    "    max_seq_length = max_seq_length,\n",
    "    dtype = dtype,\n",
    "    load_in_4bit = load_in_4bit,\n",
    "\n",
    ")"
   ],
   "id": "9dd7a8b2668bf42c",
   "outputs": [],
   "execution_count": null
  },
  {
   "metadata": {},
   "cell_type": "code",
   "source": [
    "model = FastLanguageModel.get_peft_model(\n",
    "    model,\n",
    "    r = 16,\n",
    "    target_modules= [\"q_proj\", \"k_proj\", \"o_proj\", \"gate_proj\", \"up_proj\", \"down_proj\",],\n",
    "    lora_alpha= 16,\n",
    "    lora_dropout= 0,\n",
    "    bias = \"none\",\n",
    "    use_gradient_checkpointing= \"unsloth\",\n",
    "    random_state = 3407,\n",
    "    use_rslora= False,\n",
    "    loftq_config= None,\n",
    ")"
   ],
   "id": "2da56d42649e0f6c",
   "outputs": [],
   "execution_count": null
  },
  {
   "metadata": {},
   "cell_type": "code",
   "source": [
    "alpaca_prompt = \"\"\"Below is an instruction that describes a task, paired with an instruction\n",
    "### Instruction:\n",
    "Company database: {}\n",
    "\n",
    "### Input:\n",
    "SQL Prompt: {}\n",
    "\n",
    "### Response:\n",
    "SQL: {}\n",
    "\n",
    "Explanation: {}\n",
    "\"\"\"\n",
    "\n",
    "EOS_TOKEN = tokenizer.eos_token\n",
    "\n",
    "def formatting_prompts_func(examples):\n",
    "    company_database = examples[\"sql_context\"]\n",
    "    prompts = examples[\"sql_prompt\"]\n",
    "    sqls = examples[\"sql\"]\n",
    "    explanations = examples[\"sql_explanation\"]\n",
    "    texts = []\n",
    "    for company_database, prompt, sql, explanation in zip(company_database, prompts, sqls, explanations):\n",
    "        # Must add EOS_Token,  otherwise yor generation will go on forever!\n",
    "        text = alpaca_prompt.format(company_database, prompt, sql, explanation) + EOS_TOKEN\n",
    "        texts.append(text)\n",
    "    return {\"text\": texts,}"
   ],
   "id": "f9fd2e5dd6ce5a16",
   "outputs": [],
   "execution_count": null
  },
  {
   "metadata": {},
   "cell_type": "code",
   "source": [
    "from datasets import load_dataset\n",
    "dataset = load_dataset(\"gretelai/synthetic_text_to_sql\", split=\"train\")\n",
    "dataset = dataset.map(formatting_prompts_func, batched=True)"
   ],
   "id": "c213baacb208147e",
   "outputs": [],
   "execution_count": null
  },
  {
   "metadata": {},
   "cell_type": "code",
   "source": "dataset['text']",
   "id": "24db87afe7957fa",
   "outputs": [],
   "execution_count": null
  },
  {
   "metadata": {},
   "cell_type": "code",
   "source": [
    "from transformers import TrainingArguments\n",
    "from trl import SFTTrainer\n",
    "from unsloth import is_bfloat16_supported"
   ],
   "id": "e210dd4563f8eb18",
   "outputs": [],
   "execution_count": null
  },
  {
   "metadata": {},
   "cell_type": "code",
   "source": [
    "trainer = SFTTrainer(\n",
    "    model = model,\n",
    "    tokenizer = tokenizer,\n",
    "    train_dataset = dataset,\n",
    "    dataset_text_field = \"text\",\n",
    "    max_seq_length = max_seq_length,\n",
    "    dataset_num_proc = 2,\n",
    "    packing = False, # Can make training 5x faster for short sequences.\n",
    "    args = TrainingArguments(\n",
    "        per_device_train_batch_size = 2,\n",
    "        gradient_accumulation_steps = 4,\n",
    "        warmup_steps = 5,\n",
    "        # num_train_epochs = 1, # Set this for 1 full training run.\n",
    "        max_steps = 60,\n",
    "        learning_rate = 2e-4,\n",
    "        fp16 = not is_bfloat16_supported(),\n",
    "        bf16 = is_bfloat16_supported(),\n",
    "        logging_steps = 1,\n",
    "        optim = \"adamw_8bit\",\n",
    "        weight_decay = 0.01,\n",
    "        lr_scheduler_type = \"linear\",\n",
    "        seed = 3407,\n",
    "        output_dir= \"outputs\",\n",
    "    ),\n",
    ")\n"
   ],
   "id": "c4a4f07a3fbfc620",
   "outputs": [],
   "execution_count": null
  },
  {
   "metadata": {},
   "cell_type": "code",
   "source": "trainer.train()",
   "id": "68c2bc0025ab47d9",
   "outputs": [],
   "execution_count": null
  },
  {
   "metadata": {},
   "cell_type": "code",
   "source": "model.save_pretrained_gguf(\"model\", tokenizer, quantization_method=\"f16\")",
   "id": "8674bb48ebdbb848",
   "outputs": [],
   "execution_count": null
  },
  {
   "metadata": {},
   "cell_type": "code",
   "source": "",
   "id": "2770569fae7703b6",
   "outputs": [],
   "execution_count": null
  }
 ],
 "metadata": {
  "kernelspec": {
   "display_name": "Python 3",
   "language": "python",
   "name": "python3"
  },
  "language_info": {
   "codemirror_mode": {
    "name": "ipython",
    "version": 2
   },
   "file_extension": ".py",
   "mimetype": "text/x-python",
   "name": "python",
   "nbconvert_exporter": "python",
   "pygments_lexer": "ipython2",
   "version": "2.7.6"
  }
 },
 "nbformat": 4,
 "nbformat_minor": 5
}
